{
 "cells": [
  {
   "cell_type": "code",
   "execution_count": 1,
   "id": "ac5908ed-b8cf-4c5c-afc3-3988efb91705",
   "metadata": {},
   "outputs": [
    {
     "name": "stdout",
     "output_type": "stream",
     "text": [
      "Model accuracy: 0.89\n",
      "|--- Time <= 8.12\n",
      "|   |--- age <= 45.50\n",
      "|   |   |--- class: 1\n",
      "|   |--- age >  45.50\n",
      "|   |   |--- class: 0\n",
      "|--- Time >  8.12\n",
      "|   |--- age <= 16.50\n",
      "|   |   |--- class: 1\n",
      "|   |--- age >  16.50\n",
      "|   |   |--- age <= 25.50\n",
      "|   |   |   |--- age <= 23.50\n",
      "|   |   |   |   |--- Area <= 116.00\n",
      "|   |   |   |   |   |--- class: 0\n",
      "|   |   |   |   |--- Area >  116.00\n",
      "|   |   |   |   |   |--- class: 1\n",
      "|   |   |   |--- age >  23.50\n",
      "|   |   |   |   |--- class: 1\n",
      "|   |   |--- age >  25.50\n",
      "|   |   |   |--- Number_of_Warts <= 8.50\n",
      "|   |   |   |   |--- class: 0\n",
      "|   |   |   |--- Number_of_Warts >  8.50\n",
      "|   |   |   |   |--- Type <= 1.50\n",
      "|   |   |   |   |   |--- class: 1\n",
      "|   |   |   |   |--- Type >  1.50\n",
      "|   |   |   |   |   |--- class: 0\n",
      "\n"
     ]
    }
   ],
   "source": [
    "from sklearn.tree import DecisionTreeClassifier\n",
    "from sklearn.tree import export_text\n",
    "import pandas as pd\n",
    "from sklearn.model_selection import train_test_split\n",
    "\n",
    "# Load your data into a DataFrame\n",
    "df = pd.read_csv(\"cryotherapy_data.csv\")\n",
    "\n",
    "# Separate features and target variable\n",
    "X = df.drop(\"Result_of_Treatment\", axis=1)\n",
    "y = df[\"Result_of_Treatment\"]\n",
    "\n",
    "\n",
    "# Prepare the feature matrix and target vector\n",
    "X = df[['sex', 'age', 'Time', 'Number_of_Warts', 'Type', 'Area']]\n",
    "y = df['Result_of_Treatment']\n",
    "\n",
    "# Split the dataset into training and testing sets\n",
    "X_train, X_test, y_train, y_test = train_test_split(X, y, test_size=0.2, random_state=42)\n",
    "\n",
    "# Create a DecisionTreeClassifier and fit it to the training data\n",
    "clf = DecisionTreeClassifier(random_state=42)\n",
    "clf.fit(X_train, y_train)\n",
    "\n",
    "# Evaluate the model\n",
    "score = clf.score(X_test, y_test)\n",
    "print(f\"Model accuracy: {score:.2f}\")\n",
    "\n",
    "# # Create a Decision Tree classifier and fit it\n",
    "# clf = DecisionTreeClassifier()\n",
    "# clf.fit(X, y)\n",
    "\n",
    "# Export the decision tree rules\n",
    "tree_rules = export_text(clf, feature_names=list(X.columns))\n",
    "print(tree_rules)"
   ]
  }
 ],
 "metadata": {
  "kernelspec": {
   "display_name": "Python 3 (ipykernel)",
   "language": "python",
   "name": "python3"
  },
  "language_info": {
   "codemirror_mode": {
    "name": "ipython",
    "version": 3
   },
   "file_extension": ".py",
   "mimetype": "text/x-python",
   "name": "python",
   "nbconvert_exporter": "python",
   "pygments_lexer": "ipython3",
   "version": "3.11.5"
  }
 },
 "nbformat": 4,
 "nbformat_minor": 5
}
